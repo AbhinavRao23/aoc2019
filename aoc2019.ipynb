{
  "nbformat": 4,
  "nbformat_minor": 0,
  "metadata": {
    "colab": {
      "name": "aoc2019.ipynb",
      "provenance": [],
      "collapsed_sections": [],
      "authorship_tag": "ABX9TyMOY517firc8FPVFRcakde0",
      "include_colab_link": true
    },
    "kernelspec": {
      "name": "python3",
      "display_name": "Python 3"
    }
  },
  "cells": [
    {
      "cell_type": "markdown",
      "metadata": {
        "id": "view-in-github",
        "colab_type": "text"
      },
      "source": [
        "<a href=\"https://colab.research.google.com/github/AbhinavRao23/aoc2019/blob/main/aoc2019.ipynb\" target=\"_parent\"><img src=\"https://colab.research.google.com/assets/colab-badge.svg\" alt=\"Open In Colab\"/></a>"
      ]
    },
    {
      "cell_type": "code",
      "metadata": {
        "id": "UAOBcYrEling"
      },
      "source": [
        "import math\n",
        "import numpy as np\n",
        "def readFile(fileName):\n",
        "        fileObj = open(fileName, \"r\") #opens the file in read mode\n",
        "        lines = fileObj.read().splitlines() #puts the file into an array\n",
        "        fileObj.close()\n",
        "        numbers = [float(i) for i in lines]\n",
        "        return numbers\n",
        "    \n",
        "path = r'C:\\Users\\AOR1BAN\\Desktop\\extras\\aoc\\inputs\\d1.txt'\n",
        "\n",
        "mass = readFile(path)\n",
        "fuel = [math.floor(m/3)-2 for m in mass]\n",
        "print(sum(fuel))"
      ],
      "execution_count": null,
      "outputs": []
    },
    {
      "cell_type": "code",
      "metadata": {
        "id": "KpBq85SPlpz9"
      },
      "source": [
        "dfuel = fuel\n",
        "while sum(dfuel) > 0:\n",
        "    dfuel = [math.floor(d/3)-2 for d in dfuel]\n",
        "    dfuel = [0 if d < 0 else d for d in dfuel]\n",
        "    fuel = [f + d for (f,d) in zip(fuel,dfuel)]\n",
        "print(sum(fuel))"
      ],
      "execution_count": null,
      "outputs": []
    },
    {
      "cell_type": "code",
      "metadata": {
        "id": "FWxBWyD9lsXy"
      },
      "source": [
        "def readFile(fileName):\n",
        "        fileObj = open(fileName, \"r\") #opens the file in read mode\n",
        "        words = fileObj.read().split(',') #puts the file into an array\n",
        "        fileObj.close()\n",
        "        numbers = [int(i) for i in words]\n",
        "        return numbers\n",
        "    \n",
        "path = r'C:\\Users\\AOR1BAN\\Desktop\\extras\\aoc\\inputs\\d2.txt'\n",
        "opcode = readFile(path)\n",
        "\n",
        "opcode[1] = 12\n",
        "opcode[2] = 2\n",
        "\n",
        "\n",
        "def intcomputer(opcode):\n",
        "    i = 0\n",
        "    while opcode[i] != 99:\n",
        "        if opcode[i] == 1:\n",
        "            opcode[opcode[i+3]] = opcode[opcode[i+1]] + opcode[opcode[i+2]]\n",
        "            i = i + 4\n",
        "            continue\n",
        "        elif opcode[i] ==2:\n",
        "            opcode[opcode[i+3]] = opcode[opcode[i+1]] * opcode[opcode[i+2]]\n",
        "            i = i + 4\n",
        "            continue\n",
        "        else:\n",
        "            print(\"identifier error\")\n",
        "            break\n",
        "    return opcode\n",
        "    \n",
        "print(intcomputer(opcode)[0])"
      ],
      "execution_count": null,
      "outputs": []
    },
    {
      "cell_type": "code",
      "metadata": {
        "id": "A1MYxouBlvkW"
      },
      "source": [
        "path = r'C:\\Users\\AOR1BAN\\Desktop\\extras\\aoc\\inputs\\d2.txt'\n",
        "opcodes = readFile(path)\n",
        "\n",
        "for i in range(100):\n",
        "    for j in range(100):\n",
        "        inp = opcodes.copy()\n",
        "        inp[1] = i\n",
        "        inp[2] = j\n",
        "        if intcomputer(inp)[0] == 19690720:\n",
        "            print(i,j)\n",
        "            break\n",
        "        else:\n",
        "            pass"
      ],
      "execution_count": null,
      "outputs": []
    },
    {
      "cell_type": "code",
      "metadata": {
        "id": "oDmMtB-7l6iH"
      },
      "source": [
        "path = r'C:\\Users\\AOR1BAN\\Desktop\\extras\\aoc\\inputs\\d3.txt'\n",
        "\n",
        "def readFile(fileName):\n",
        "        fileObj = open(fileName, \"r\") #opens the file in read mode\n",
        "        wires = fileObj.read().split('\\n') #puts the file into an array\n",
        "        wire1, wire2 = wires\n",
        "        wire1 = wire1.split(',')\n",
        "        wire2 = wire2.split(',')\n",
        "        fileObj.close()\n",
        "        return wire1, wire2\n",
        "\n",
        "wire1,wire2 = readFile(path)\n",
        "\n",
        "def wirepath(wire):\n",
        "    wirepath = [(0,0)]\n",
        "    for cmd in wire:\n",
        "        direction = cmd[0]\n",
        "        steps = int(cmd[1:])\n",
        "        if direction == 'U':\n",
        "            for step in range(steps):\n",
        "                wirepath.append((wirepath[-1][0],wirepath[-1][1]+1))\n",
        "        elif direction == 'D':\n",
        "            for step in range(steps):\n",
        "                wirepath.append((wirepath[-1][0],wirepath[-1][1]-1))\n",
        "        elif direction == 'R':\n",
        "            for step in range(steps):\n",
        "                wirepath.append((wirepath[-1][0]+1,wirepath[-1][1]))\n",
        "        elif direction == 'L':\n",
        "            for step in range(steps):\n",
        "                wirepath.append((wirepath[-1][0]-1,wirepath[-1][1]))\n",
        "        else:\n",
        "            print('invalid instuction')\n",
        "    return wirepath\n",
        "\n",
        "wirepath1 = wirepath(wire1)\n",
        "wirepath2 = wirepath(wire2)\n",
        "intersections = list(set(wirepath1).intersection(wirepath2))\n",
        "distance = [abs(a)+abs(b) for (a,b) in intersections]\n",
        "distance.sort()\n",
        "mindistance = distance[1]\n",
        "print(mindistance)"
      ],
      "execution_count": null,
      "outputs": []
    },
    {
      "cell_type": "code",
      "metadata": {
        "id": "dnRmLU_yl-nJ"
      },
      "source": [
        "combined_steps = []\n",
        "for intersection in intersections:\n",
        "    combined_step = (wirepath1.index(intersection) + wirepath2.index(intersection))\n",
        "    combined_steps.append(combined_step)    \n",
        "\n",
        "combined_steps.sort()\n",
        "print(combined_steps[1])"
      ],
      "execution_count": null,
      "outputs": []
    },
    {
      "cell_type": "code",
      "metadata": {
        "id": "fjAcpwnDl_mU"
      },
      "source": [
        "count = 0\n",
        "for i in range(146810,612565):\n",
        "    digits = [int(char) for char in str(i)]\n",
        "    if digits == sorted(digits):\n",
        "        if len(digits) > len(set(digits)):\n",
        "            count += 1\n",
        "    else:\n",
        "        pass\n",
        "print(count)"
      ],
      "execution_count": null,
      "outputs": []
    },
    {
      "cell_type": "code",
      "metadata": {
        "id": "cgXR9IORmCyv"
      },
      "source": [
        "count = 0\n",
        "for i in range(146810,612565):\n",
        "    digits = [int(char) for char in str(i)]\n",
        "    if digits == sorted(digits):\n",
        "        if len(digits) > len(set(digits)):\n",
        "            freq = []\n",
        "            for digit in digits:\n",
        "                freq.append(digits.count(digit))\n",
        "            if 2 in freq:\n",
        "                count+=1\n",
        "    else:\n",
        "        pass\n",
        "print(count)"
      ],
      "execution_count": null,
      "outputs": []
    },
    {
      "cell_type": "code",
      "metadata": {
        "id": "QJHFUb5wmF4P"
      },
      "source": [
        "def intcomputer(inp):\n",
        "    i = 0\n",
        "    opcode = inp[0]\n",
        "    while opcode != 99:\n",
        "        #instruction\n",
        "        instruction = [int(char) for char in str(inp[i])]\n",
        "        \n",
        "        #filling first digits\n",
        "        while len(instruction)<5:\n",
        "            instruction.insert(0,0)\n",
        "        \n",
        "        #parameter modes and opcode\n",
        "        a,b,c,d,e = instruction\n",
        "        opcode = 10*d+e\n",
        "        if opcode == 99:\n",
        "            break\n",
        "        \n",
        "        #setting parameters based on their respective modes\n",
        "        i1 = (i+1 if c==1 else inp[i+1])\n",
        "        i2 = (i+2 if b==1 else inp[i+2])\n",
        "        i3 = (i+3 if a==1 else inp[i+3])\n",
        "            \n",
        "        if opcode == 1:\n",
        "            inp[i3] = inp[i1] + inp[i2]\n",
        "            i = i + 4\n",
        "            continue\n",
        "            \n",
        "        elif opcode == 2:\n",
        "            inp[i3] = inp[i1] * inp[i2]\n",
        "            i = i + 4\n",
        "            continue\n",
        "            \n",
        "        elif opcode == 3:\n",
        "            inp[i1] = int(input())\n",
        "            i = i + 2\n",
        "            \n",
        "        elif opcode == 4:\n",
        "            print(inp[i1])\n",
        "            i = i + 2\n",
        "            \n",
        "        elif opcode == 99:\n",
        "            break\n",
        "            \n",
        "        else:\n",
        "            print(\"identifier error\")\n",
        "            break\n",
        "    return inp"
      ],
      "execution_count": null,
      "outputs": []
    },
    {
      "cell_type": "code",
      "metadata": {
        "id": "ehWUiyPumM9h"
      },
      "source": [
        "def intcomputer(inp):\n",
        "    i = 0\n",
        "    opcode = inp[0]\n",
        "    while opcode != 99:\n",
        "        #instruction\n",
        "        instruction = [int(char) for char in str(inp[i])]\n",
        "        \n",
        "        #filling first digits\n",
        "        while len(instruction)<5:\n",
        "            instruction.insert(0,0)\n",
        "        \n",
        "        #parameter modes and opcode\n",
        "        a,b,c,d,e = instruction\n",
        "        opcode = 10*d+e\n",
        "        if opcode == 99:\n",
        "            break\n",
        "        \n",
        "        #setting parameters based on their respective modes\n",
        "        i1 = (i+1 if c==1 else inp[i+1])\n",
        "        if (opcode == 1) | (opcode == 2) | (opcode == 7) | (opcode == 8):\n",
        "            i2 = (i+2 if b==1 else inp[i+2])\n",
        "            i3 = (i+3 if a==1 else inp[i+3])\n",
        "            \n",
        "        if opcode == 1:\n",
        "            inp[i3] = inp[i1] + inp[i2]\n",
        "            i = i + 4\n",
        "            \n",
        "        elif opcode == 2:\n",
        "            inp[i3] = inp[i1] * inp[i2]\n",
        "            i = i + 4\n",
        "            \n",
        "        elif opcode == 3:\n",
        "            inp[i1] = int(input())\n",
        "            i = i + 2\n",
        "            \n",
        "        elif opcode == 4:\n",
        "            print(inp[i1])\n",
        "            i = i + 2\n",
        "        \n",
        "        elif opcode == 5:\n",
        "            i = inp[i2] if inp[i1] != 0 else i+2\n",
        "            \n",
        "        elif opcode == 6:\n",
        "            i = inp[i2] if inp[i1] == 0 else i+2 \n",
        "            \n",
        "        elif opcode == 7:\n",
        "            inp[i3] = 1 if inp[i1] < inp[i2] else 0\n",
        "            i = i+4\n",
        "            \n",
        "        elif opcode == 8:\n",
        "            inp[i3] = 1 if inp[i1] == inp[i2] else 0\n",
        "            i= i+4\n",
        "            \n",
        "        elif opcode == 99:\n",
        "            break\n",
        "            \n",
        "        else:\n",
        "            print(\"error: opcode\", opcode,\"doesnt exist\")\n",
        "            break\n",
        "        print(i)\n",
        "    return inp"
      ],
      "execution_count": null,
      "outputs": []
    }
  ]
}